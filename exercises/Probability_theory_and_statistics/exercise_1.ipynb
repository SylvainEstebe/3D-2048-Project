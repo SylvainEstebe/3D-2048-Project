{
  "cells": [
    {
      "cell_type": "markdown",
      "id": "5eb3329d",
      "metadata": {
        "id": "5eb3329d"
      },
      "source": [
        "# Importing libraries"
      ]
    },
    {
      "cell_type": "code",
      "execution_count": 1,
      "id": "b14ce036",
      "metadata": {
        "id": "b14ce036"
      },
      "outputs": [],
      "source": [
        "import numpy as np # NumPy → for numerical arrays and math\n",
        "import pandas as pd # Pandas → for working with data tables\n",
        "import matplotlib.pyplot as plt # Matplotlib → for plotting\n",
        "import seaborn as sns # Seaborn → for statistical data visualization\n",
        "from scipy import stats # SciPy → for statistical tests"
      ]
    },
    {
      "cell_type": "markdown",
      "id": "a7106ad4",
      "metadata": {
        "id": "a7106ad4"
      },
      "source": [
        "# Python as a calculator"
      ]
    },
    {
      "cell_type": "code",
      "execution_count": 2,
      "id": "1ca18e27",
      "metadata": {
        "id": "1ca18e27",
        "outputId": "609b2629-d6c1-4f41-f267-77f2736adfa1",
        "colab": {
          "base_uri": "https://localhost:8080/"
        }
      },
      "outputs": [
        {
          "output_type": "stream",
          "name": "stdout",
          "text": [
            "8\n",
            "0\n",
            "16\n",
            "1.0\n"
          ]
        }
      ],
      "source": [
        "# In Python, you can use the interpreter like a calculator.\n",
        "print(4 + 4)   # Addition\n",
        "print(4 - 4)   # Subtraction\n",
        "print(4 * 4)   # Multiplication\n",
        "print(4 / 4)   # Division"
      ]
    },
    {
      "cell_type": "code",
      "execution_count": 3,
      "id": "e0a3aec8",
      "metadata": {
        "id": "e0a3aec8",
        "outputId": "3f1af658-3957-4d59-e511-b5e6755fea5b",
        "colab": {
          "base_uri": "https://localhost:8080/"
        }
      },
      "outputs": [
        {
          "output_type": "stream",
          "name": "stdout",
          "text": [
            "8\n"
          ]
        }
      ],
      "source": [
        "# You can store numbers inside variables:\n",
        "A = 4\n",
        "B = 4\n",
        "print(A + B)"
      ]
    },
    {
      "cell_type": "code",
      "execution_count": 4,
      "id": "4e6cde15",
      "metadata": {
        "id": "4e6cde15",
        "outputId": "89207aad-4993-4e6b-c048-711dabf1e742",
        "colab": {
          "base_uri": "https://localhost:8080/"
        }
      },
      "outputs": [
        {
          "output_type": "stream",
          "name": "stdout",
          "text": [
            "8\n",
            "2.0\n"
          ]
        }
      ],
      "source": [
        "# Functions are predefined operations that take inputs and return outputs.\n",
        "print(sum([A, B]))   # The sum() function adds elements in a list\n",
        "print(np.sqrt(4))    # np.sqrt() computes a square root"
      ]
    },
    {
      "cell_type": "code",
      "execution_count": 5,
      "id": "4d42df82",
      "metadata": {
        "id": "4d42df82",
        "outputId": "a1ce6e2e-5ac1-4cb8-9ff1-af7f81f912f3",
        "colab": {
          "base_uri": "https://localhost:8080/"
        }
      },
      "outputs": [
        {
          "output_type": "stream",
          "name": "stdout",
          "text": [
            "A + B = [3 4 5 6 7]\n"
          ]
        }
      ],
      "source": [
        "# Arrays (vectors) are created using numpy:\n",
        "A = np.array([1, 2, 3, 4, 5])\n",
        "B = np.array([2, 2, 2, 2, 2])\n",
        "\n",
        "# You can perform operations on arrays directly:\n",
        "C = A + B\n",
        "print(\"A + B =\", C)"
      ]
    },
    {
      "cell_type": "code",
      "execution_count": 6,
      "id": "a6c03a4d",
      "metadata": {
        "id": "a6c03a4d",
        "outputId": "418ccbae-15d2-4823-d59d-90ea41152deb",
        "colab": {
          "base_uri": "https://localhost:8080/"
        }
      },
      "outputs": [
        {
          "output_type": "stream",
          "name": "stdout",
          "text": [
            "Sequence A: [1 2 3 4 5]\n",
            "Repeated B: [2 2 2 2 2]\n"
          ]
        }
      ],
      "source": [
        "# Create sequences and repetitions\n",
        "A = np.arange(1, 6, 1)     # 1 to 5, step 1\n",
        "B = np.repeat(2, 5)        # Repeat 2 five times\n",
        "print(\"Sequence A:\", A)\n",
        "print(\"Repeated B:\", B)"
      ]
    },
    {
      "cell_type": "code",
      "execution_count": 14,
      "id": "09ddd389",
      "metadata": {
        "id": "09ddd389"
      },
      "outputs": [],
      "source": [
        "# Generate random samples\n",
        "# Uniform distribution → all values equally likely\n",
        "weight1 = np.random.uniform(60, 120, 30)\n",
        "weight2 = np.random.uniform(80, 140, 30)"
      ]
    },
    {
      "cell_type": "code",
      "execution_count": 8,
      "id": "538900a7",
      "metadata": {
        "id": "538900a7",
        "outputId": "c994a389-f6f8-4043-bac2-19fd82fa91c2",
        "colab": {
          "base_uri": "https://localhost:8080/"
        }
      },
      "outputs": [
        {
          "output_type": "stream",
          "name": "stdout",
          "text": [
            "Random weights generated!\n"
          ]
        }
      ],
      "source": [
        "# Normal distribution → bell-shaped\n",
        "weight1 = np.random.normal(80, 10, 30)\n",
        "weight2 = np.random.normal(100, 15, 30)\n",
        "print(\"Random weights generated!\")"
      ]
    },
    {
      "cell_type": "code",
      "execution_count": 17,
      "id": "c3e50a9b",
      "metadata": {
        "id": "c3e50a9b"
      },
      "outputs": [],
      "source": [
        "# Simulated data: egg sizes (e.g., in mm)\n",
        "# Here we create two sample distributions for illustration\n",
        "np.random.seed(42)\n",
        "size_past = np.random.normal(loc=45, scale=3, size=30)     # older eggs, smaller\n",
        "size_today = np.random.normal(loc=52, scale=4, size=30)    # modern eggs, larger"
      ]
    },
    {
      "cell_type": "code",
      "execution_count": 18,
      "id": "35184d2e",
      "metadata": {
        "id": "35184d2e",
        "outputId": "27445623-f8e6-4081-e1d8-eb91312034da",
        "colab": {
          "base_uri": "https://localhost:8080/"
        }
      },
      "outputs": [
        {
          "output_type": "stream",
          "name": "stdout",
          "text": [
            "        Size Period\n",
            "0  46.490142   Past\n",
            "1  44.585207   Past\n",
            "2  46.943066   Past\n",
            "3  49.569090   Past\n",
            "4  44.297540   Past\n",
            "0     46.490142\n",
            "1     44.585207\n",
            "2     46.943066\n",
            "3     49.569090\n",
            "4     44.297540\n",
            "5     44.297589\n",
            "6     49.737638\n",
            "7     47.302304\n",
            "8     43.591577\n",
            "9     46.627680\n",
            "10    43.609747\n",
            "11    43.602811\n",
            "12    45.725887\n",
            "13    39.260159\n",
            "14    39.825247\n",
            "15    43.313137\n",
            "16    41.961507\n",
            "17    45.942742\n",
            "18    42.275928\n",
            "19    40.763089\n",
            "20    49.396946\n",
            "21    44.322671\n",
            "22    45.202585\n",
            "23    40.725755\n",
            "24    43.366852\n",
            "25    45.332768\n",
            "26    41.547019\n",
            "27    46.127094\n",
            "28    43.198084\n",
            "29    44.124919\n",
            "30    49.593174\n",
            "31    59.409113\n",
            "32    51.946011\n",
            "33    47.769156\n",
            "34    55.290180\n",
            "35    47.116625\n",
            "36    52.835454\n",
            "37    44.161320\n",
            "38    46.687256\n",
            "39    52.787445\n",
            "40    54.953866\n",
            "41    52.685473\n",
            "42    51.537407\n",
            "43    50.795585\n",
            "44    46.085912\n",
            "45    49.120623\n",
            "46    50.157445\n",
            "47    56.228489\n",
            "48    53.374473\n",
            "49    44.947839\n",
            "50    53.296336\n",
            "51    50.459671\n",
            "52    49.292312\n",
            "53    54.446705\n",
            "54    56.123998\n",
            "55    55.725120\n",
            "56    48.643130\n",
            "57    50.763150\n",
            "58    53.325054\n",
            "59    55.902181\n",
            "Name: Size, dtype: float64\n"
          ]
        }
      ],
      "source": [
        "# Categorical variables\n",
        "period1 = np.repeat(\"Past\", 30)\n",
        "period2 = np.repeat(\"Today\", 30)\n",
        "\n",
        "# Combine arrays\n",
        "Size = np.concatenate([size_past, size_today])\n",
        "Period = np.concatenate([period1, period2])\n",
        "\n",
        "# Create DataFrame\n",
        "EggStudy = pd.DataFrame({\"Size\": Size, \"Period\": Period})\n",
        "\n",
        "# Preview the first few rows\n",
        "print(EggStudy.head())\n",
        "\n",
        "# Access a specific column\n",
        "print(EggStudy[\"Size\"])\n",
        "\n",
        "# Save the data\n",
        "# Option 1: NumPy archive with both arrays\n",
        "np.savez(\"eggs_data.npz\", Size=Size, Period=Period)\n",
        "\n",
        "# Option 2: Save the tidy spreadsheet like R's data.frame\n",
        "EggStudy.to_csv(\"EggStudy.csv\", index=False)"
      ]
    },
    {
      "cell_type": "code",
      "execution_count": 19,
      "id": "dd8f866e",
      "metadata": {
        "id": "dd8f866e",
        "outputId": "01dd51bc-43a6-4988-a3be-3aa158598c0f",
        "colab": {
          "base_uri": "https://localhost:8080/"
        }
      },
      "outputs": [
        {
          "output_type": "stream",
          "name": "stdout",
          "text": [
            "Period\n",
            "Past     44.435559\n",
            "Today    51.515350\n",
            "Name: Size, dtype: float64\n"
          ]
        }
      ],
      "source": [
        "# Summary statistics\n",
        "print(EggStudy.groupby(\"Period\")[\"Size\"].mean())"
      ]
    },
    {
      "cell_type": "markdown",
      "id": "0ce5aa4d",
      "metadata": {
        "id": "0ce5aa4d"
      },
      "source": [
        "# Basic Plotting"
      ]
    },
    {
      "cell_type": "code",
      "execution_count": 20,
      "id": "c475c320",
      "metadata": {
        "id": "c475c320",
        "outputId": "9aaa4f18-632c-442d-f935-8aa90ac936dc",
        "colab": {
          "base_uri": "https://localhost:8080/",
          "height": 488
        }
      },
      "outputs": [
        {
          "output_type": "display_data",
          "data": {
            "text/plain": [
              "<Figure size 800x500 with 1 Axes>"
            ],
            "image/png": "[encoded data removed]"
          },
          "metadata": {}
        }
      ],
      "source": [
        "# --- Distribution plot with legend ---\n",
        "plt.figure(figsize=(8, 5))\n",
        "sns.histplot(\n",
        "    data=EggStudy,\n",
        "    x=\"Size\",\n",
        "    hue=\"Period\",\n",
        "    bins=15,\n",
        "    kde=True,\n",
        "    alpha=0.5,\n",
        "    palette={\"Past\": \"goldenrod\", \"Today\": \"seagreen\"}\n",
        ")\n",
        "plt.title(\"Distribution of Egg Sizes: Past vs Today\", fontsize=14)\n",
        "plt.xlabel(\"Egg Size (mm)\")\n",
        "plt.ylabel(\"Frequency\")\n",
        "\n",
        "# Add legend manually for full control\n",
        "plt.legend(title=\"Period\", labels=[\"Past\", \"Today\"], loc=\"upper right\")\n",
        "plt.show()\n"
      ]
    },
    {
      "cell_type": "code",
      "execution_count": 21,
      "id": "da61861c",
      "metadata": {
        "id": "da61861c",
        "outputId": "2134a996-d053-431d-a13b-40f329670bdf",
        "colab": {
          "base_uri": "https://localhost:8080/",
          "height": 577
        }
      },
      "outputs": [
        {
          "output_type": "stream",
          "name": "stderr",
          "text": [
            "/tmp/ipython-input-1982053218.py:3: FutureWarning: \n",
            "\n",
            "Passing `palette` without assigning `hue` is deprecated and will be removed in v0.14.0. Assign the `x` variable to `hue` and set `legend=False` for the same effect.\n",
            "\n",
            "  sns.boxplot(\n"
          ]
        },
        {
          "output_type": "display_data",
          "data": {
            "text/plain": [
              "<Figure size 600x500 with 1 Axes>"
            ],
            "image/png": "[encoded data removed]"
          },
          "metadata": {}
        }
      ],
      "source": [
        "# --- Boxplot with legend (optional) ---\n",
        "plt.figure(figsize=(6, 5))\n",
        "sns.boxplot(\n",
        "    x=\"Period\",\n",
        "    y=\"Size\",\n",
        "    data=EggStudy,\n",
        "    palette={\"Past\": \"goldenrod\", \"Today\": \"seagreen\"}\n",
        ")\n",
        "plt.title(\"Egg Size Comparison Across Periods\", fontsize=14)\n",
        "plt.xlabel(\"Period\")\n",
        "plt.ylabel(\"Egg Size (mm)\")\n",
        "plt.legend(title=\"Period\", labels=[\"Past\", \"Today\"], loc=\"upper right\")\n",
        "plt.show()"
      ]
    },
    {
      "cell_type": "markdown",
      "id": "11faf73e",
      "metadata": {
        "id": "11faf73e"
      },
      "source": [
        "# 📊 Exercise 3 – Basic descriptive statistics"
      ]
    },
    {
      "cell_type": "code",
      "execution_count": null,
      "id": "0f521acf",
      "metadata": {
        "id": "0f521acf"
      },
      "outputs": [],
      "source": [
        "# --- Create fake data ---\n",
        "np.random.seed(42)\n",
        "n = 100\n",
        "ancient = np.random.normal(loc=50, scale=3, size=n)\n",
        "recent = np.random.normal(loc=55, scale=2.5, size=n)\n",
        "\n",
        "data = pd.DataFrame({\n",
        "    \"period\": [\"ancient\"] * n + [\"recent\"] * n,\n",
        "    \"egg_size\": np.concatenate([ancient, recent])\n",
        "})\n",
        "\n",
        "# Save to CSV\n",
        "data.to_csv(\"egg_sizes.csv\", index=False)\n",
        "print(\"✅ File 'egg_sizes.csv' created successfully!\")\n",
        "print(data.head())\n"
      ]
    },
    {
      "cell_type": "code",
      "execution_count": null,
      "id": "2615cbf4",
      "metadata": {
        "id": "2615cbf4"
      },
      "outputs": [],
      "source": [
        "# --- TODO: Load the CSV file you just created ---\n",
        "# Hint: use pd.read_csv(\"egg_sizes.csv\")\n",
        "# data = ..."
      ]
    },
    {
      "cell_type": "code",
      "execution_count": null,
      "id": "cbab10ae",
      "metadata": {
        "id": "cbab10ae"
      },
      "outputs": [],
      "source": [
        "# --- TODO: Write a function that computes the mean manually ---\n",
        "def manual_mean(values):\n",
        "    return  # <-- your code here\n"
      ]
    },
    {
      "cell_type": "code",
      "execution_count": null,
      "id": "e229f3d8",
      "metadata": {
        "id": "e229f3d8"
      },
      "outputs": [],
      "source": [
        "# --- TODO: Write a function that computes the variance manually ---\n",
        "def manual_variance(values):\n",
        "    return  # <-- your code here"
      ]
    },
    {
      "cell_type": "code",
      "execution_count": null,
      "id": "2fe842f8",
      "metadata": {
        "id": "2fe842f8"
      },
      "outputs": [],
      "source": [
        "# --- TODO: Compute the standard deviation of egg size for each period ---\n",
        "# Hint: Use your manual_mean and manual_variance functions"
      ]
    },
    {
      "cell_type": "code",
      "execution_count": null,
      "id": "8dc18f24",
      "metadata": {
        "id": "8dc18f24"
      },
      "outputs": [],
      "source": [
        "# results = []\n",
        "# for period, group in data.groupby(\"period\"):\n",
        "#     mean = ...\n",
        "#     var = ...\n",
        "#     std = ...\n",
        "#     results.append({\"period\": period, \"mean\": mean, \"variance\": var, \"std\": std})\n"
      ]
    },
    {
      "cell_type": "code",
      "execution_count": null,
      "id": "6508c96f",
      "metadata": {
        "id": "6508c96f"
      },
      "outputs": [],
      "source": [
        "# --- TODO: Histogram of egg size distribution ---\n",
        "# Hint: use sns.histplot with parameters like data=, x=, hue=, bins=, kde=True"
      ]
    },
    {
      "cell_type": "code",
      "execution_count": null,
      "id": "f22fb098",
      "metadata": {
        "id": "f22fb098"
      },
      "outputs": [],
      "source": [
        "# --- TODO: Bar chart of mean ± standard deviation ---\n",
        "# Hint: use plt.bar with yerr=stats_df[\"std\"], capsize=5"
      ]
    }
  ],
  "metadata": {
    "kernelspec": {
      "display_name": ".venv",
      "language": "python",
      "name": "python3"
    },
    "language_info": {
      "codemirror_mode": {
        "name": "ipython",
        "version": 3
      },
      "file_extension": ".py",
      "mimetype": "text/x-python",
      "name": "python",
      "nbconvert_exporter": "python",
      "pygments_lexer": "ipython3",
      "version": "3.12.7"
    },
    "colab": {
      "provenance": []
    }
  },
  "nbformat": 4,
  "nbformat_minor": 5
}